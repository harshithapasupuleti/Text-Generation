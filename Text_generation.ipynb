{
  "nbformat": 4,
  "nbformat_minor": 0,
  "metadata": {
    "colab": {
      "name": "Text generation.ipynb",
      "provenance": []
    },
    "kernelspec": {
      "name": "python3",
      "display_name": "Python 3"
    },
    "language_info": {
      "name": "python"
    }
  },
  "cells": [
    {
      "cell_type": "code",
      "metadata": {
        "colab": {
          "base_uri": "https://localhost:8080/"
        },
        "id": "LQbwOJxZgnlt",
        "outputId": "b43801a8-3453-4f47-b26d-2104161fd7da"
      },
      "source": [
        "#importing libraries\n",
        "import tensorflow\n",
        "import numpy\n",
        "import sys\n",
        "import nltk\n",
        "nltk.download('stopwords')\n",
        "from nltk.tokenize import RegexpTokenizer\n",
        "from nltk.corpus import stopwords\n",
        "from keras.models import Sequential\n",
        "from keras.layers import Dense,Dropout,LSTM\n",
        "from keras.utils import  np_utils\n",
        "from keras.callbacks import ModelCheckpoint"
      ],
      "execution_count": 21,
      "outputs": [
        {
          "output_type": "stream",
          "name": "stdout",
          "text": [
            "[nltk_data] Downloading package stopwords to /root/nltk_data...\n",
            "[nltk_data]   Package stopwords is already up-to-date!\n"
          ]
        }
      ]
    },
    {
      "cell_type": "code",
      "metadata": {
        "id": "-yCyX7VUiXht"
      },
      "source": [
        "#load data\n",
        "file=open(\"sample.txt\").read()"
      ],
      "execution_count": 22,
      "outputs": []
    },
    {
      "cell_type": "code",
      "metadata": {
        "colab": {
          "base_uri": "https://localhost:8080/",
          "height": 120
        },
        "id": "bFbSwHYFiqHF",
        "outputId": "12d6f49a-5242-48d1-eede-fe0301c8d6ae"
      },
      "source": [
        "file"
      ],
      "execution_count": 23,
      "outputs": [
        {
          "output_type": "execute_result",
          "data": {
            "application/vnd.google.colaboratory.intrinsic+json": {
              "type": "string"
            },
            "text/plain": [
              "\"A Song of Ice and Fire\\n\\nA Game of Thrones\\n\\nPROLOGUE\\n\\nWe should start back, Gared urged as the woods began to grow dark around them.  The wildlings are dead.\\n\\nDo the dead frighten you? Ser Waymar Royce asked with just the hint of a smile.\\n\\nGared did not rise to the bait. He was an old man, past fifty, and he had seen the lordlings come and go.  Dead is dead, he said.  We have no business with the dead.\\n\\nAre they dead? Royce asked softly.  What proof have we?\\n\\nWill saw them, Gared said.  If he says they are dead, that's proof enough for me.\\n\\nWill had known they would drag him into the quarrel sooner or later. He wished it had been later rather than sooner.  My mother told me that dead men sing no songs, he put in.\\n\\nMy wet nurse said the same thing, Will, Royce replied.  Never believe anything you hear at a woman's tit. There are things to be learned even from the dead. His voice echoed, too loud in the twilit forest.\\n\\nWe have a long ride before us, Gared pointed out.  Eight days, maybe nine. And night is falling.\\n\\nSer Waymar Royce glanced at the sky with disinterest.  It does that every day about this time. Are you unmanned by the dark, Gared?\\n\\nWill could see the tightness around Gared's mouth, the barely suppressed anger in his eyes under the thick black hood of his cloak. Gared had spent forty years in the Night's Watch, man and boy, and he was not accustomed to being made light of. Yet it was more than that. Under the wounded pride, Will could sense something else in the older man. You could taste it; a nervous tension that came perilous close to fear.\\n\\nWill shared his unease. He had been four years on the Wall. The first time he had been sent beyond, all the old stories had come rushing back, and his bowels had turned to water. He had laughed about it afterward. He was a veteran of a hundred rangings by now, and the endless dark wilderness that the southron called the haunted forest had no more terrors for him.\\n\\nUntil tonight. Something was different tonight. There was an edge to this darkness that made his hackles rise. Nine days they had been riding, north and northwest and then north again, farther and farther from the Wall, hard on the track of a band of wildling raiders. Each day had been worse than the day that had come before it. Today was the worst of all. A cold wind was blowing out of the north, and it made the trees rustle like living things. All day, Will had felt as though something were watching him, something cold and implacable that loved him not. Gared had felt it too. Will wanted nothing so much as to ride hellbent for the safety of the Wall, but that was not a feeling to share with your commander.\\n\\nEspecially not a commander like this one.\\n\\nSer Waymar Royce was the youngest son of an ancient house with too many heirs. He was a handsome youth of eighteen, grey-eyed and graceful and slender as a knife. Mounted on his huge black destrier, the knight towered above Will and Gared on their smaller garrons. He wore black leather boots, black woolen pants, black moleskin gloves, and a fine supple coat of gleaming black ringmail over layers of black wool and boiled leather. Ser Waymar had been a Sworn Brother of the Night's Watch for less than half a year, but no one could say he had not prepared for his vocation. At least insofar as his wardrobe was concerned.\\n\\nHis cloak was his crowning glory; sable, thick and black and soft as sin.  Bet he killed them all himself, he did, Gared told the barracks over wine,  twisted their little heads off, our mighty warrior. They had all shared the laugh.\\n\\nIt is hard to take orders from a man you laughed at in your cups, Will reflected as he sat shivering atop his garron. Gared must have felt the same.\\n\\nMormont said as we should track them, and we did, Gared said.  They're dead. They shan't trouble us no more. There's hard riding before us. I don't like this weather. If it snows, we could be a fortnight getting back, and snow's the best we can hope for. Ever seen an ice storm, my lord?\\n\\nThe lordling seemed not to hear him. He studied the deepening twilight in that half-bored, half-distracted way he had. Will had ridden with the knight long enough to understand that it was best not to interrupt him when he looked like that.  Tell me again what you saw, Will. All the details. Leave nothing out.\\n\\nWill had been a hunter before he joined the Night's Watch. Well, a poacher in truth. Mallister freeriders had caught him red-handed in the Mallisters' own woods, skinning one of the Mallisters' own bucks, and it had been a choice of putting on the black or losing a hand. No one could move through the woods as silent as Will, and it had not taken the black brothers long to discover his talent.\\n\\nThe camp is two miles farther on, over that ridge, hard beside a stream, Will said.  I got close as I dared. There's eight of them, men and women both. No children I could see. They put up a lean-to against the rock. The snow's pretty well covered it now, but I could still make it out. No fire burning, but the firepit was still plain as day. No one moving. I watched a long time. No living man ever lay so still.\\n\\nDid you see any blood?\\n\\nWell, no, Will admitted.\\n\\nDid you see any weapons?\\n\\nSome swords, a few bows. One man had an axe. Heavy-looking, double-bladed, a cruel piece of iron. It was on the ground beside him, right by his hand.\\n\\nDid you make note of the position of the bodies?\\n\\nWill shrugged.  A couple are sitting up against the rock. Most of them on the ground. Fallen, like.\\n\\n Or sleeping, Royce suggested.\\n\\n Fallen, Will insisted.  There's one woman up an ironwood, half-hid in the branches. A far-eyes. He smiled thinly.  I took care she never saw me. When I got closer, I saw that she wasn't moving neither. Despite himself, he shivered.\\n\\n You have a chill? Royce asked.\\n\\n Some, Will muttered.  The wind, m'lord.\\n\\nThe young knight turned back to his grizzled man-at-arms. Frostfallen leaves whispered past them, and Royce's destrier moved restlessly.  What do you think might have killed these men, Gared? Ser Waymar asked casually. He adjusted the drape of his long sable cloak.\\n\\n It was the cold, Gared said with iron certainty.  I saw men freeze last winter, and the one before, when I was half a boy. Everyone talks about snows forty foot deep, and how the ice wind comes howling out of the north, but the real enemy is the cold. It steals up on you quieter than Will, and at first you shiver and your teeth chatter and you stamp your feet and dream of mulled wine and nice hot fires. It burns, it does. Nothing burns like the cold. But only for a while. Then it gets inside you and starts to fill you up, and after a while you don't have the strength to fight it. It's easier just to sit down or go to sleep. They say you don't feel any pain toward the end. First you go weak and drowsy, and everything starts to fade, and then it's like sinking into a sea of warm milk. Peaceful, like.\\n\\n Such eloquence, Gared, Ser Waymar observed.  I never suspected you had it in you.\\n\\n I've had the cold in me too, lordling. Gared pulled back his hood, giving Ser Waymar a good long look at the stumps where his ears had been.  Two ears, three toes, and the little finger off my left hand. I got off light. We found my brother frozen at his watch, with a smile on his face.\\n\\nSer Waymar shrugged.  You ought dress more warmly, Gared.\\n\\nGared glared at the lordling, the scars around his ear holes flushed red with anger where Maester Aemon had cut the ears away.  We'll see how warm you can dress when the winter comes. He pulled up his hood and hunched over his garron, silent and sullen.\\n\\n If Gared said it was the cold Will began.\\n\\n Have you drawn any watches this past week, Will?\\n\\n Yes, m'lord. There never was a week when he did not draw a dozen bloody watches. What was the man driving at?\\n\\n And how did you find the Wall?\\n\\n Weeping, Will said, frowning. He saw it clear enough, now that the lordling had pointed it out.  They couldn't have froze. Not if the Wall was weeping. It wasn't cold enough.\\n\\nRoyce nodded.  Bright lad. We've had a few light frosts this past week, and a quick flurry of snow now and then, but surely no cold fierce enough to kill eight grown men. Men clad in fur and leather, let me remind you, with shelter near at hand, and the means of making fire. The knight's smile was cocksure.  Will, lead us there. I would see these dead men for myself.\\n\\nAnd then there was nothing to be done for it. The order had been given, and honor bound them to obey.\\n\\nWill went in front, his shaggy little garron picking the way carefully through the undergrowth. A light snow had fallen the night before, and there were stones and roots and hidden sinks lying just under its crust, waiting for the careless and the unwary. Ser Waymar Royce came next, his great black destrier snorting impatiently. The warhorse was the wrong mount for ranging, but try and tell that to the lordling. Gared brought up the rear. The old man-at-arms muttered to himself as he rode.\\n\\nTwilight deepened. The cloudless sky turned a deep purple, the color of an old bruise, then faded to black. The stars began to come out. A half-moon rose. Will was grateful for the light.\\n\\n We can make a better pace than this, surely, Royce said when the moon was full risen.\\n\\n Not with this horse, Will said. Fear had made him insolent.  Perhaps my lord would care to take the lead?\\n\\nSer Waymar Royce did not deign to reply.\\n\\nSomewhere off in the wood a wolf howled.\\n\\nWill pulled his garron over beneath an ancient gnarled ironwood and dismounted.\\n\\n Why are you stopping? Ser Waymar asked.\\n\\n Best go the rest of the way on foot, m'lord. It's just over that ridge.\\n\\nRoyce paused a moment, staring off into the distance, his face reflective. A cold wind whispered through the trees. His great sable cloak stirred behind like something half-alive.\\n\\n There's something wrong here, Gared muttered.\\n\\nThe young knight gave him a disdainful smile.  Is there?\\n\\n Can't you feel it? Gared asked.  Listen to the darkness.\\n\\nWill could feel it. Four years in the Night's Watch, and he had never been so afraid. What was it?\\n\\n Wind. Trees rustling. A wolf. Which sound is it that unmans you so, Gared? When Gared did not answer, Royce slid gracefully from his saddle. He tied the destrier securely to a low-hanging limb, well away from the other horses, and drew his longsword from its sheath. Jewels glittered in its hilt, and the moonlight ran down the shining steel. It was a splendid weapon, castle-forged, and new-made from the look of it. Will doubted it had ever been swung in anger.\\n\\n The trees press close here, Will warned.  That sword will tangle you up, m'lord. Better a knife.\\n\\n If I need instruction, I will ask for it, the young lord said.  Gared, stay here. Guard the horses.\\n\\nGared dismounted.  We need a fire. I'll see to it.\\n\\n How big a fool are you, old man? If there are enemies in this wood, a fire is the last thing we want.\\n\\n There's some enemies a fire will keep away, Gared said.  Bears and direwolves andand other things\\n\\nSer Waymar's mouth became a hard line.  No fire.\\n\\nGared's hood shadowed his face, but Will could see the hard glitter in his eyes as he stared at the knight. For a moment he was afraid the older man would go for his sword. It was a short, ugly thing, its grip discolored by sweat, its edge nicked from hard use, but Will would not have given an iron bob for the lordling's life if Gared pulled it from its scabbard.\\n\\nFinally Gared looked down.  No fire, he muttered, low under his breath.\\n\\nRoyce took it for acquiescence and turned away.  Lead on, he said to Will.\\n\\nWill threaded their way through a thicket, then started up the slope to the low ridge where he had found his vantage point under a sentinel tree. Under the thin crust of snow, the ground was damp and muddy, slick footing, with rocks and hidden roots to trip you up. Will made no sound as he climbed. Behind him, he heard the soft metallic slither of the lordling's ringmail, the rustle of leaves, and muttered curses as reaching branches grabbed at his longsword and tugged on his splendid sable cloak.\\n\\nThe great sentinel was right there at the top of the ridge, where Will had known it would be, its lowest branches a bare foot off the ground. Will slid in underneath, flat on his belly in the snow and the mud, and looked down on the empty clearing below.\\n\\nHis heart stopped in his chest. For a moment he dared not breathe. Moonlight shone down on the clearing, the ashes of the firepit, the snow-covered lean-to, the great rock, the little half-frozen stream. Everything was just as it had been a few hours ago.\\n\\nThey were gone. All the bodies were gone.\\n\\n Gods! he heard behind him. A sword slashed at a branch as Ser Waymar Royce gained the ridge. He stood there beside the sentinel, longsword in hand, his cloak billowing behind him as the wind came up, outlined nobly against the stars for all to see.\\n\\n Get down! Will whispered urgently.  Something's wrong.\\n\\nRoyce did not move. He looked down at the empty clearing and laughed.  Your dead men seem to have moved camp, Will.\\n\\nWill's voice abandoned him. He groped for words that did not come. It was not possible. His eyes swept back and forth over the abandoned campsite, stopped on the axe. A huge double-bladed battle-axe, still lying where he had seen it last, untouched. A valuable weapon\\n\\n On your feet, Will, Ser Waymar commanded.  There's no one here. I won't have you hiding under a bush.\\n\\nReluctantly, Will obeyed.\\n\\nSer Waymar looked him over with open disapproval.  I am not going back to Castle Black a failure on my first ranging. We will find these men. He glanced around.  Up the tree. Be quick about it. Look for a fire.\\n\\nWill turned away, wordless. There was no use to argue. The wind was moving. It cut right through him. He went to the tree, a vaulting grey-green sentinel, and began to climb. Soon his hands were sticky with sap, and he was lost among the needles. Fear filled his gut like a meal he could not digest. He whispered a prayer to the nameless gods of the wood, and slipped his dirk free of its sheath. He put it between his teeth to keep both hands free for climbing. The taste of cold iron in his mouth gave him comfort.\\n\\nDown below, the lordling called out suddenly,  Who goes there? Will heard uncertainty in the challenge. He stopped climbing; he listened; he watched.\\n\\nThe woods gave answer: the rustle of leaves, the icy rush of the stream, a distant hoot of a snow owl.\\n\\nThe Others made no sound.\\n\\nWill saw movement from the corner of his eye. Pale shapes gliding through the wood. He turned his head, glimpsed a white shadow in the darkness. Then it was gone. Branches stirred gently in the wind, scratching at one another with wooden fingers. Will opened his mouth to call down a warning, and the words seemed to freeze in his throat. Perhaps he was wrong. Perhaps it had only been a bird, a reflection on the snow, some trick of the moonlight. What had he seen, after all?\\n\\n Will, where are you? Ser Waymar called up.  Can you see anything? He was turning in a slow circle, suddenly wary, his sword in hand. He must have felt them, as Will felt them. There was nothing to see.  Answer me! Why is it so cold?\\n\\nIt was cold. Shivering, Will clung more tightly to his perch. His face pressed hard against the trunk of the sentinel. He could feel the sweet, sticky sap on his cheek.\\n\\nA shadow emerged from the dark of the wood. It stood in front of Royce. Tall, it was, and gaunt and hard as old bones, with flesh pale as milk. Its armor seemed to change color as it moved; here it was white as new-fallen snow, there black as shadow, everywhere dappled with the deep grey-green of the trees. The patterns ran like moonlight on water with every step it took.\\n\\nWill heard the breath go out of Ser Waymar Royce in a long hiss.  Come no farther, the lordling warned. His voice cracked like a boy's. He threw the long sable cloak back over his shoulders, to free his arms for battle, and took his sword in both hands. The wind had stopped. It was very cold.\\n\\nThe Other slid forward on silent feet. In its hand was a longsword like none that Will had ever seen. No human metal had gone into the forging of that blade. It was alive with moonlight, translucent, a shard of crystal so thin that it seemed almost to vanish when seen edge-on. There was a faint blue shimmer to the thing, a ghost-light that played around its edges, and somehow Will knew it was sharper than any razor.\\n\\nSer Waymar met him bravely.  Dance with me then. He lifted his sword high over his head, defiant. His hands trembled from the weight of it, or perhaps from the cold. Yet in that moment, Will thought, he was a boy no longer, but a man of the Night's Watch.\\n\\nThe Other halted. Will saw its eyes; blue, deeper and bluer than any human eyes, a blue that burned like ice. They fixed on the longsword trembling on high, watched the moonlight running cold along the metal. For a heartbeat he dared to hope.\\n\\nThey emerged silently from the shadows, twins to the first. Three of themfourfiveSer Waymar may have felt the cold that came with them, but he never saw them, never heard them. Will had to call out. It was his duty. And his death, if he did. He shivered, and hugged the tree, and kept the silence.\\n\\nThe pale sword came shivering through the air.\\n\\nSer Waymar met it with steel. When the blades met, there was no ring of metal on metal; only a high, thin sound at the edge of hearing, like an animal screaming in pain. Royce checked a second blow, and a third, then fell back a step. Another flurry of blows, and he fell back again.\\n\\nBehind him, to right, to left, all around him, the watchers stood patient, faceless, silent, the shifting patterns of their delicate armor making them all but invisible in the wood. Yet they made no move to interfere.\\n\\nAgain and again the swords met, until Will wanted to cover his ears against the strange anguished keening of their clash. Ser Waymar was panting from the effort now, his breath steaming in the moonlight. His blade was white with frost; the Other's danced with pale blue light.\\n\\nThen Royce's parry came a beat too late. The pale sword bit through the ringmail beneath his arm. The young lord cried out in pain. Blood welled between the rings. It steamed in the cold, and the droplets seemed red as fire where they touched the snow. Ser Waymar's fingers brushed his side. His moleskin glove came away soaked with red.\\n\\nThe Other said something in a language that Will did not know; his voice was like the cracking of ice on a winter lake, and the words were mocking.\\n\\nSer Waymar Royce found his fury.  For Robert! he shouted, and he came up snarling, lifting the frost-covered longsword with both hands and swinging it around in a flat sidearm slash with all his weight behind it. The Other's parry was almost lazy.\\n\\nWhen the blades touched, the steel shattered.\\n\\nA scream echoed through the forest night, and the longsword shivered into a hundred brittle pieces, the shards scattering like a rain of needles. Royce went to his knees, shrieking, and covered his eyes. Blood welled between his fingers.\\n\\nThe watchers moved forward together, as if some signal had been given. Swords rose and fell, all in a deathly silence. It was cold butchery. The pale blades sliced through ringmail as if it were silk. Will closed his eyes. Far beneath him, he heard their voices and laughter sharp as icicles.\\n\\nWhen he found the courage to look again, a long time had passed, and the ridge below was empty.\\n\\nHe stayed in the tree, scarce daring to breathe, while the moon crept slowly across the black sky. Finally, his muscles cramping and his fingers numb with cold, he climbed down.\\n\\nRoyce's body lay facedown in the snow, one arm outflung. The thick sable cloak had been slashed in a dozen places. Lying dead like that, you saw how young he was. A boy.\\n\\nHe found what was left of the sword a few feet away, the end splintered and twisted like a tree struck by lightning. Will knelt, looked around warily, and snatched it up. The broken sword would be his proof. Gared would know what to make of it, and if not him, then surely that old bear Mormont or Maester Aemon. Would Gared still be waiting with the horses? He had to hurry.\\n\\nWill rose. Ser Waymar Royce stood over him.\\n\\nHis fine clothes were a tatter, his face a ruin. A shard from his sword transfixed the blind white pupil of his left eye.\\n\\nThe right eye was open. The pupil burned blue. It saw.\\n\\nThe broken sword fell from nerveless fingers. Will closed his eyes to pray. Long, elegant hands brushed his cheek, then tightened around his throat. They were gloved in the finest moleskin and sticky with blood, yet the touch was icy cold.\\n\\n\\n\\nBRAN\\n\\nThe morning had dawned clear and cold, with a crispness that hinted at the end of summer. They set forth at daybreak to see a man beheaded, twenty in all, and Bran rode among them, nervous with excitement. This was the first time he had been deemed old enough to go with his lord father and his brothers to see the king's justice done. It was the ninth year of summer, and the seventh of Bran's life.\\n\\nThe man had been taken outside a small holdfast in the hills. Robb thought he was a wildling, his sword sworn to Mance Rayder, the King-beyond-the-Wall. It made Bran's skin prickle to think of it. He remembered the hearth tales Old Nan told them. The wildlings were cruel men, she said, slavers and slayers and thieves. They consorted with giants and ghouls, stole girl children in the dead of night, and drank blood from polished horns. And their women lay with the Others in the Long Night to sire terrible half-human children.\\n\\nBut the man they found bound hand and foot to the holdfast wall awaiting the king's justice was old and scrawny, not much taller than Robb. He had lost both ears and a finger to frostbite, and he dressed all in black, the same as a brother of the Night's Watch, except that his furs were ragged and greasy.\\n\\nThe breath of man and horse mingled, steaming, in the cold morning air as his lord father had the man cut down from the wall and dragged before them. Robb and Jon sat tall and still on their horses, with Bran between them on his pony, trying to seem older than seven, trying to pretend that he'd seen all this before. A faint wind blew through the holdfast gate. Over their heads flapped the banner of the Starks of Winterfell: a grey direwolf racing across an ice-white field.\\n\\nBran's father sat solemnly on his horse, long brown hair stirring in the wind. His closely trimmed beard was shot with white, making him look older than his thirty-five years. He had a grim cast to his grey eyes this day, and he seemed not at all the man who would sit before the fire in the evening and talk softly of the age of heroes and the children of the forest. He had taken off Father's face, Bran thought, and donned the face of Lord Stark of Winterfell.\\n\\nThere were questions asked and answers given there in the chill of morning, but afterward Bran could not recall much of what had been said. Finally his lord father gave a command, and two of his guardsmen dragged the ragged man to the ironwood stump in the center of the square. They forced his head down onto the hard black wood. Lord Eddard Stark dismounted and his ward Theon Greyjoy brought forth the sword.  Ice, that sword was called. It was as wide across as a man's hand, and taller even than Robb. The blade was Valyrian steel, spell-forged and dark as smoke. Nothing held an edge like Valyrian steel.\\n\\nHis father peeled off his gloves and handed them to Jory Cassel, the captain of his household guard. He took hold of Ice with both hands and said,  In the name of Robert of the House Baratheon, the First of his Name, King of the Andals and the Rhoynar and the First Men, Lord of the Seven Kingdoms and Protector of the Realm, by the word of Eddard of the House Stark, Lord of Winterfell and Warden of the North, I do sentence you to die. He lifted the greatsword high above his head.\\n\\nBran's bastard brother Jon Snow moved closer.  Keep the pony well in hand, he whispered.  And don't look away. Father will know if you do.\\n\\nBran kept his pony well in hand, and did not look away.\\n\\nHis father took off the man's head with a single sure stroke. Blood sprayed out across the snow, as red as surnmerwine. One of the horses reared and had to be restrained to keep from bolting. Bran could not take his eyes off the blood. The snows around the stump drank it eagerly, reddening as he watched.\\n\\nThe head bounced off a thick root and rolled. It came up near Greyjoy's feet. Theon was a lean, dark youth of nineteen who found everything amusing. He laughed, put his boot on the head, and kicked it away.\\n\\n Ass, Jon muttered, low enough so Greyjoy did not hear. He put a hand on Bran's shoulder, and Bran looked over at his bastard brother.  You did well, Jon told him solemnly. Jon was fourteen, an old hand at justice.\\n\\nIt seemed colder on the long ride back to Winterfell, though the wind had died by then and the sun was higher in the sky. Bran rode with his brothers, well ahead of the main party, his pony struggling hard to keep up with their horses.\\n\\n The deserter died bravely, Robb said. He was big and broad and growing every day, with his mother's coloring, the fair skin, red-brown hair, and blue eyes of the Tullys of Riverrun.  He had courage, at the least.\\n\\n No, Jon Snow said quietly.  It was not courage. This one was dead of fear. You could see it in his eyes, Stark. Jon's eyes were a grey so dark they seemed almost black, but there was little they did not see. He was of an age with Robb, but they did not look alike. Jon was slender where Robb was muscular, dark where Robb was fair, graceful and quick where his half brother was strong and fast.\\n\\nRobb was not impressed.  The Others take his eyes, he swore.  He died well. Race you to the bridge?\\n\\n Done, Jon said, kicking his horse forward. Robb cursed and followed, and they galloped off down the trail, Robb laughing and hooting, Jon silent and intent. The hooves of their horses kicked up showers of snow as they went.\\n\\nBran did not try to follow. His pony could not keep up. He had seen the ragged man's eyes, and he was thinking of them now. After a while, the sound of Robb's laughter receded, and the woods grew silent again.\\n\\nSo deep in thought was he that he never heard the rest of the party until his father moved up to ride beside him.  Are you well, Bran? he asked, not unkindly.\\n\\n Yes, Father, Bran told him. He looked up. Wrapped in his furs and leathers, mounted on his great warhorse, his lord father loomed over him like a giant.  Robb says the man died bravely, but Jon says he was afraid.\\n\\n What do you think? his father asked.\\n\\nBran thought about it.  Can a man still be brave if he's afraid?\\n\\n That is the only time a man can be brave, his father told him.  Do you understand why I did it?\\n\\n He was a wildling, Bran said.  They carry off women and sell them to the Others.\\n\\nHis lord father smiled.  Old Nan has been telling you stories again. In truth, the man was an oathbreaker, a deserter from the Night's Watch. No man is more dangerous. The deserter knows his life is forfeit if he is taken, so he will not flinch from any crime, no matter how vile. But you mistake me. The question was not why the man had to die, but why I must do it.\\n\\nBran had no answer for that.  King Robert has a headsman, he said, uncertainly.\\n\\n He does, his father admitted.  As did the Targaryen kings before him. Yet our way is the older way. The blood of the First Men still flows in the veins of the Starks, and we hold to the belief that the man who passes the sentence should swing the sword. If you would take a man's life, you owe it to him to look into his eyes and hear his final words. And if you cannot bear to do that, then perhaps the man does not deserve to die.\\n\\n One day, Bran, you will be Robb's bannerman, holding a keep of your own for your brother and your king, and justice will fall to you. When that day comes, you must take no pleasure in the task, but neither must you look away. A ruler who hides behind paid executioners soon forgets what death is.\\n\\nThat was when Jon reappeared on the crest of the hill before them. He waved and shouted down at them.  Father, Bran, come quickly, see what Robb has found! Then he was gone again.\\n\\nJory rode up beside them.  Trouble, my lord?\\n\\n Beyond a doubt, his lord father said.  Come, let us see what mischief my sons have rooted out now. He sent his horse into a trot. Jory and Bran and the rest came after.\\n\\nThey found Robb on the riverbank north of the bridge, with Jon still mounted beside him. The late summer snows had been heavy this moonturn. Robb stood knee-deep in white, his hood pulled back so the sun shone in his hair. He was cradling something in his arm, while the boys talked in hushed, excited voices.\\n\\nThe riders picked their way carefully through the drifts, groping for solid footing on the hidden, uneven ground. Jory Cassel and Theon Greyjoy were the first to reach the boys. Greyjoy was laughing and joking as he rode. Bran heard the breath go out of him.  Gods! he exclaimed, struggling to keep control of his horse as he reached for his sword.\\n\\nJory's sword was already out.  Robb, get away from it! he called as his horse reared under him.\\n\\nRobb grinned and looked up from the bundle in his arms.  She can't hurt you, he said.  She's dead, Jory.\\n\\nBran was afire with curiosity by then. He would have spurred the pony faster, but his father made them dismount beside the bridge and approach on foot. Bran jumped off and ran.\\n\\nBy then Jon, Jory, and Theon Greyjoy had all dismounted as well.  What in the seven hells is it? Greyjoy was saying.\\n\\n A wolf, Robb told him.\\n\\n A freak, Greyjoy said.  Look at the size of it.\\n\\nBran's heart was thumping in his chest as he pushed through a waist-high drift to his brothers' side.\\n\\nHalf-buried in bloodstained snow, a huge dark shape slumped in death. Ice had formed in its shaggy grey fur, and the faint smell of corruption clung to it like a woman's perfume. Bran glimpsed blind eyes crawling with maggots, a wide mouth full of yellowed teeth. But it was the size of it that made him gasp. It was bigger than his pony, twice the size of the largest hound in his father's kennel.\\n\\n It's no freak, Jon said calmly.  That's a direwolf. They grow larger than the other kind.\\n\\nTheon Greyjoy said,  There's not been a direwolf sighted south of the Wall in two hundred years.\\n\\n I see one now, Jon replied.\\n\\nBran tore his eyes away from the monster. That was when he noticed the bundle in Robb's arms. He gave a cry of delight and moved closer. The pup was a tiny ball of grey-black fur, its eyes still closed. It nuzzled blindly against Robb's chest as he cradled it, searching for milk among his leathers, making a sad little whimpery sound. Bran reached out hesitantly.  Go on, Robb told him.  You can touch him.\\n\\nBran gave the pup a quick nervous stroke, then turned as Jon said,  Here you go. His half brother put a second pup into his arms.  There are five of them.  Bran sat down in the snow and hugged the wolf pup to his face. Its fur was soft and warm against his cheek.\\n\\n Direwolves loose in the realm, after so many years,  muttered Hullen, the master of horse.  I like it not. \\n\\n It is a sign,  Jory said.\\n\\nFather frowned.  This is only a dead animal, Jory,  he said. Yet he seemed troubled. Snow crunched under his boots as he moved around the body.  Do we know what killed her? \\n\\n There's something in the throat,  Robb told him, proud to have found the answer before his father even asked.  There, just under the jaw. \\n\\nHis father knelt and groped under the beast's head with his hand. He gave a yank and held it up for all to see. A foot of shattered antler, tines snapped off, all wet with blood.\\n\\nA sudden silence descended over the party. The men looked at the antler uneasily, and no one dared to speak. Even Bran could sense their fear, though he did not understand.\\n\\nHis father tossed the antler to the side and cleansed his hands in the snow.  I'm surprised she lived long enough to whelp,  he said. His voice broke the spell.\\n\\n Maybe she didn't,  Jory said.  I've heard talesmaybe the bitch was already dead when the pups came. \\n\\n Born with the dead,  another man put in.  Worse luck. \\n\\n No matter,  said Hullen.  They be dead soon enough too. \\n\\nBran gave a wordless cry of dismay.\\n\\n The sooner the better,  Theon Greyjoy agreed. He drew his sword.  Give the beast here, Bran. \\n\\nThe little thing squirmed against him, as if it heard and understood.  No!  Bran cried out fiercely.  It's mine. \\n\\n Put away your sword, Greyjoy,  Robb said. For a moment he sounded as commanding as their father, like the lord he would someday be.  We will keep these pups. \\n\\n You cannot do that, boy,  said Harwin, who was Hullen's son.\\n\\n It be a mercy to kill them,  Hullen said.\\n\\nBran looked to his lord father for rescue, but got only a frown, a furrowed brow.  Hullen speaks truly, son. Better a swift death than a hard one from cold and starvation. \\n\\n No!  He could feel tears welling in his eyes, and he looked away. He did not want to cry in front of his father.\\n\\nRobb resisted stubbornly.  Ser Rodrik's red bitch whelped again last week,  he said.  It was a small litter, only two live pups. She'll have milk enough. \\n\\n She'll rip them apart when they try to nurse. \\n\\n Lord Stark,  Jon said. It was strange to hear him call Father that, so formal. Bran looked at him with desperate hope.  There are five pups,  he told Father.  Three male, two female. \\n\\n What of it, Jon? \\n\\n You have five trueborn children,  Jon said.  Three sons, two daughters. The direwolf is the sigil of your House. Your children were meant to have these pups, my lord. \\n\\nBran saw his father's face change, saw the other men exchange glances. He loved Jon with all his heart at that moment. Even at seven, Bran understood what his brother had done. The count had come right only because Jon had omitted himself. He had included the girls, included even Rickon, the baby, but not the bastard who bore the surname Snow, the name that custom decreed be given to all those in the north unlucky enough to be born with no name of their own.\\n\\nTheir father understood as well.  You want no pup for yourself, Jon?  he asked softly.\\n\\n The direwolf graces the banners of House Stark,  Jon pointed out.  I am no Stark, Father. \\n\\nTheir lord father regarded Jon thoughtfully. Robb rushed into the silence he left.  I will nurse him myself, Father,  he promised.  I will soak a towel with warm milk, and give him suck from that. \\n\\n Me too!  Bran echoed.\\n\\nThe lord weighed his sons long and carefully with his eyes.  Easy to say, and harder to do. I will not have you wasting the servants' time with this. If you want these pups, you will feed them yourselves. Is that understood? \\n\\nBran nodded eagerly. The pup squirmed in his grasp, licked at his face with a warm tongue.\\n\\n You must train them as well,  their father said.  You must train them. The kennelmaster will have nothing to do with these monsters, I promise you that. And the gods help you if you neglect them, or brutalize them, or train them badly. These are not dogs to beg for treats and slink off at a kick. A direwolf will rip a man's arm off his shoulder as easily as a dog will kill a rat. Are you sure you want this? \\n\\n Yes, Father,  Bran said.\\n\\n Yes,  Robb agreed.\\n\\n The pups may die anyway, despite all you do. \\n\\n They won't die,  Robb said.  We won't let them die. \\n\\n Keep them, then. Jory, Desmond, gather up the other pups. It's time we were back to Winterfell. \\n\\nIt was not until they were mounted and on their way that Bran allowed himself to taste the sweet air of victory. By then, his pup was snuggled inside his leathers, warm against him, safe for the long ride home. Bran was wondering what to name him.\\n\\nHalfway across the bridge, Jon pulled up suddenly.\\n\\n What is it, Jon?  their lord father asked.\\n\\n Can't you hear it? \\n\\nBran could hear the wind in the trees, the clatter of their hooves on the ironwood planks, the whimpering of his hungry pup, but Jon was listening to something else.\\n\\n There,  Jon said. He swung his horse around and galloped back across the bridge. They watched him dismount where the direwolf lay dead in the snow, watched him kneel. A moment later he was riding back to them, smiling.\\n\\n He must have crawled away from the others,  Jon said.\\n\\n Or been driven away,  their father said, looking at the sixth pup. His fur was white, where the rest of the litter was grey. His eyes were as red as the blood of the ragged man who had died that morning. Bran thought it curious that this pup alone would have opened his eyes while the others were still blind.\\n\\n An albino,  Theon Greyjoy said with wry amusement.  This one will die even faster than the others. \\n\""
            ]
          },
          "metadata": {},
          "execution_count": 23
        }
      ]
    },
    {
      "cell_type": "code",
      "metadata": {
        "id": "UBwfQETBiwRh"
      },
      "source": [
        "#tokenization\n",
        "def tokenize_words(input):\n",
        "  input=input.lower()\n",
        "  tokenizer=RegexpTokenizer(r'\\w+')\n",
        "  tokens=tokenizer.tokenize(input)\n",
        "  filtered=filter(lambda token: token not in stopwords.words('english'),tokens)\n",
        "  return \"\".join(filtered)\n",
        "processed_inputs=tokenize_words(file)"
      ],
      "execution_count": 24,
      "outputs": []
    },
    {
      "cell_type": "code",
      "metadata": {
        "colab": {
          "base_uri": "https://localhost:8080/"
        },
        "id": "DPP_dbIDkMc5",
        "outputId": "c328469d-5680-4d82-ab0a-fc6b7cc220be"
      },
      "source": [
        "print(processed_inputs)"
      ],
      "execution_count": 25,
      "outputs": [
        {
          "output_type": "stream",
          "name": "stdout",
          "text": [
            "songicefiregamethronesprologuestartbackgaredurgedwoodsbegangrowdarkaroundwildlingsdeaddeadfrightenserwaymarroyceaskedhintsmilegaredrisebaitoldmanpastfiftyseenlordlingscomegodeaddeadsaidbusinessdeaddeadroyceaskedsoftlyproofsawgaredsaidsaysdeadproofenoughknownwoulddragquarrelsoonerlaterwishedlaterrathersoonermothertolddeadmensingsongsputwetnursesaidthingroycerepliedneverbelieveanythinghearwomantitthingslearnedevendeadvoiceechoedloudtwilitforestlongrideusgaredpointedeightdaysmaybeninenightfallingserwaymarroyceglancedskydisinteresteverydaytimeunmanneddarkgaredcouldseetightnessaroundgaredmouthbarelysuppressedangereyesthickblackhoodcloakgaredspentfortyyearsnightwatchmanboyaccustomedmadelightyetwoundedpridecouldsensesomethingelseoldermancouldtastenervoustensioncameperilousclosefearshareduneasefouryearswallfirsttimesentbeyondoldstoriescomerushingbackbowelsturnedwaterlaughedafterwardveteranhundredrangingsendlessdarkwildernesssouthroncalledhauntedforestterrorstonightsomethingdifferenttonightedgedarknessmadehacklesriseninedaysridingnorthnorthwestnorthfartherfartherwallhardtrackbandwildlingraidersdayworsedaycometodayworstcoldwindblowingnorthmadetreesrustlelikelivingthingsdayfeltthoughsomethingwatchingsomethingcoldimplacablelovedgaredfeltwantednothingmuchridehellbentsafetywallfeelingsharecommanderespeciallycommanderlikeoneserwaymarroyceyoungestsonancienthousemanyheirshandsomeyoutheighteengreyeyedgracefulslenderknifemountedhugeblackdestrierknighttoweredgaredsmallergarronsworeblackleatherbootsblackwoolenpantsblackmoleskinglovesfinesupplecoatgleamingblackringmaillayersblackwoolboiledleatherserwaymarswornbrothernightwatchlesshalfyearonecouldsaypreparedvocationleastinsofarwardrobeconcernedcloakcrowningglorysablethickblacksoftsinbetkilledgaredtoldbarrackswinetwistedlittleheadsmightywarriorsharedlaughhardtakeordersmanlaughedcupsreflectedsatshiveringatopgarrongaredmustfeltmormontsaidtrackgaredsaiddeadtroubleushardridinguslikeweathersnowscouldfortnightgettingbacksnowbesthopeeverseenicestormlordlordlingseemedhearstudieddeepeningtwilighthalfboredhalfdistractedwayriddenknightlongenoughunderstandbestinterruptlookedliketellsawdetailsleavenothinghunterjoinednightwatchwellpoachertruthmallisterfreeriderscaughtredhandedmallisterswoodsskinningonemallistersbuckschoiceputtingblacklosinghandonecouldmovewoodssilenttakenblackbrotherslongdiscovertalentcamptwomilesfartherridgehardbesidestreamsaidgotclosedaredeightmenwomenchildrencouldseeputleanrocksnowprettywellcoveredcouldstillmakefireburningfirepitstillplaindayonemovingwatchedlongtimelivingmaneverlaystillseebloodwelladmittedseeweaponsswordsbowsonemanaxeheavylookingdoublebladedcruelpieceirongroundbesiderighthandmakenotepositionbodiesshruggedcouplesittingrockgroundfallenlikesleepingroycesuggestedfalleninsistedonewomanironwoodhalfhidbranchesfareyessmiledthinlytookcareneversawgotclosersawmovingneitherdespiteshiveredchillroyceaskedmutteredwindlordyoungknightturnedbackgrizzledmanarmsfrostfallenleaveswhisperedpastroycedestriermovedrestlesslythinkmightkilledmengaredserwaymaraskedcasuallyadjusteddrapelongsablecloakcoldgaredsaidironcertaintysawmenfreezelastwinteronehalfboyeveryonetalkssnowsfortyfootdeepicewindcomeshowlingnorthrealenemycoldstealsquieterfirstshiverteethchatterstampfeetdreammulledwinenicehotfiresburnsnothingburnslikecoldgetsinsidestartsfillstrengthfighteasiersitgosleepsayfeelpaintowardendfirstgoweakdrowsyeverythingstartsfadelikesinkingseawarmmilkpeacefullikeeloquencegaredserwaymarobservedneversuspectedcoldlordlinggaredpulledbackhoodgivingserwaymargoodlonglookstumpsearstwoearsthreetoeslittlefingerlefthandgotlightfoundbrotherfrozenwatchsmilefaceserwaymarshruggedoughtdresswarmlygaredgaredglaredlordlingscarsaroundearholesflushedredangermaesteraemoncutearsawayseewarmdresswintercomespulledhoodhunchedgarronsilentsullengaredsaidcoldbegandrawnwatchespastweekyeslordneverweekdrawdozenbloodywatchesmandrivingfindwallweepingsaidfrowningsawclearenoughlordlingpointedfrozewallweepingcoldenoughroycenoddedbrightladlightfrostspastweekquickflurrysnowsurelycoldfierceenoughkilleightgrownmenmencladfurleatherletremindshelternearhandmeansmakingfireknightsmilecocksureleaduswouldseedeadmennothingdoneordergivenhonorboundobeywentfrontshaggylittlegarronpickingwaycarefullyundergrowthlightsnowfallennightstonesrootshiddensinkslyingcrustwaitingcarelessunwaryserwaymarroycecamenextgreatblackdestriersnortingimpatientlywarhorsewrongmountrangingtrytelllordlinggaredbroughtrearoldmanarmsmutteredrodetwilightdeepenedcloudlessskyturneddeeppurplecoloroldbruisefadedblackstarsbegancomehalfmoonrosegratefullightmakebetterpacesurelyroycesaidmoonfullrisenhorsesaidfearmadeinsolentperhapslordwouldcaretakeleadserwaymarroycedeignreplysomewherewoodwolfhowledpulledgarronbeneathancientgnarledironwooddismountedstoppingserwaymaraskedbestgorestwayfootlordridgeroycepausedmomentstaringdistancefacereflectivecoldwindwhisperedtreesgreatsablecloakstirredbehindlikesomethinghalfalivesomethingwronggaredmutteredyoungknightgavedisdainfulsmilefeelgaredaskedlistendarknesscouldfeelfouryearsnightwatchneverafraidwindtreesrustlingwolfsoundunmansgaredgaredanswerroyceslidgracefullysaddletieddestriersecurelylowhanginglimbwellawayhorsesdrewlongswordsheathjewelsglitteredhiltmoonlightranshiningsteelsplendidweaponcastleforgednewmadelookdoubtedeverswungangertreespressclosewarnedswordtanglelordbetterknifeneedinstructionaskyounglordsaidgaredstayguardhorsesgareddismountedneedfireseebigfoololdmanenemieswoodfirelastthingwantenemiesfirekeepawaygaredsaidbearsdirewolvesandandthingsserwaymarmouthbecamehardlinefiregaredhoodshadowedfacecouldseehardglittereyesstaredknightmomentafraidoldermanwouldgoswordshortuglythinggripdiscoloredsweatedgenickedhardusewouldgivenironboblordlinglifegaredpulledscabbardfinallygaredlookedfiremutteredlowbreathroycetookacquiescenceturnedawayleadsaidthreadedwaythicketstartedslopelowridgefoundvantagepointsentineltreethincrustsnowgrounddampmuddyslickfootingrockshiddenrootstripmadesoundclimbedbehindheardsoftmetallicslitherlordlingringmailrustleleavesmutteredcursesreachingbranchesgrabbedlongswordtuggedsplendidsablecloakgreatsentinelrighttopridgeknownwouldlowestbranchesbarefootgroundslidunderneathflatbellysnowmudlookedemptyclearingheartstoppedchestmomentdaredbreathemoonlightshoneclearingashesfirepitsnowcoveredleangreatrocklittlehalffrozenstreameverythinghoursagogonebodiesgonegodsheardbehindswordslashedbranchserwaymarroycegainedridgestoodbesidesentinellongswordhandcloakbillowingbehindwindcameoutlinednoblystarsseegetwhisperedurgentlysomethingwrongroycemovelookedemptyclearinglaugheddeadmenseemmovedcampvoiceabandonedgropedwordscomepossibleeyessweptbackforthabandonedcampsitestoppedaxehugedoublebladedbattleaxestilllyingseenlastuntouchedvaluableweaponfeetserwaymarcommandedonehidingbushreluctantlyobeyedserwaymarlookedopendisapprovalgoingbackcastleblackfailurefirstrangingfindmenglancedaroundtreequicklookfireturnedawaywordlessusearguewindmovingcutrightwenttreevaultinggreygreensentinelbeganclimbsoonhandsstickysaplostamongneedlesfearfilledgutlikemealcoulddigestwhisperedprayernamelessgodswoodslippeddirkfreesheathputteethkeephandsfreeclimbingtastecoldironmouthgavecomfortlordlingcalledsuddenlygoeshearduncertaintychallengestoppedclimbinglistenedwatchedwoodsgaveanswerrustleleavesicyrushstreamdistanthootsnowowlothersmadesoundsawmovementcornereyepaleshapesglidingwoodturnedheadglimpsedwhiteshadowdarknessgonebranchesstirredgentlywindscratchingoneanotherwoodenfingersopenedmouthcallwarningwordsseemedfreezethroatperhapswrongperhapsbirdreflectionsnowtrickmoonlightseenserwaymarcalledseeanythingturningslowcirclesuddenlywaryswordhandmustfeltfeltnothingseeanswercoldcoldshiveringclungtightlyperchfacepressedhardtrunksentinelcouldfeelsweetstickysapcheekshadowemergeddarkwoodstoodfrontroycetallgaunthardoldbonesfleshpalemilkarmorseemedchangecolormovedwhitenewfallensnowblackshadoweverywheredappleddeepgreygreentreespatternsranlikemoonlightwatereverysteptookheardbreathgoserwaymarroycelonghisscomefartherlordlingwarnedvoicecrackedlikeboythrewlongsablecloakbackshouldersfreearmsbattletookswordhandswindstoppedcoldslidforwardsilentfeethandlongswordlikenoneeverseenhumanmetalgoneforgingbladealivemoonlighttranslucentshardcrystalthinseemedalmostvanishseenedgefaintblueshimmerthingghostlightplayedaroundedgessomehowknewsharperrazorserwaymarmetbravelydanceliftedswordhighheaddefianthandstrembledweightperhapscoldyetmomentthoughtboylongermannightwatchhaltedsaweyesbluedeeperbluerhumaneyesblueburnedlikeicefixedlongswordtremblinghighwatchedmoonlightrunningcoldalongmetalheartbeatdaredhopeemergedsilentlyshadowstwinsfirstthreethemfourfiveserwaymarmayfeltcoldcameneversawneverheardcalldutydeathshiveredhuggedtreekeptsilencepaleswordcameshiveringairserwaymarmetsteelbladesmetringmetalmetalhighthinsoundedgehearinglikeanimalscreamingpainroycecheckedsecondblowthirdfellbackstepanotherflurryblowsfellbackbehindrightleftaroundwatchersstoodpatientfacelesssilentshiftingpatternsdelicatearmormakinginvisiblewoodyetmademoveinterfereswordsmetwantedcoverearsstrangeanguishedkeeningclashserwaymarpantingeffortbreathsteamingmoonlightbladewhitefrostdancedpalebluelightroyceparrycamebeatlatepaleswordbitringmailbeneatharmyounglordcriedpainbloodwelledringssteamedcolddropletsseemedredfiretouchedsnowserwaymarfingersbrushedsidemoleskinglovecameawaysoakedredsaidsomethinglanguageknowvoicelikecrackingicewinterlakewordsmockingserwaymarroycefoundfuryrobertshoutedcamesnarlingliftingfrostcoveredlongswordhandsswingingaroundflatsidearmslashweightbehindparryalmostlazybladestouchedsteelshatteredscreamechoedforestnightlongswordshiveredhundredbrittlepiecesshardsscatteringlikerainneedlesroycewentkneesshriekingcoveredeyesbloodwelledfingerswatchersmovedforwardtogethersignalgivenswordsrosefelldeathlysilencecoldbutcherypalebladesslicedringmailsilkclosedeyesfarbeneathheardvoiceslaughtersharpiciclesfoundcouragelooklongtimepassedridgeemptystayedtreescarcedaringbreathemooncreptslowlyacrossblackskyfinallymusclescrampingfingersnumbcoldclimbedroycebodylayfacedownsnowonearmoutflungthicksablecloakslasheddozenplaceslyingdeadlikesawyoungboyfoundleftswordfeetawayendsplinteredtwistedliketreestrucklightningkneltlookedaroundwarilysnatchedbrokenswordwouldproofgaredwouldknowmakesurelyoldbearmormontmaesteraemonwouldgaredstillwaitinghorseshurryroseserwaymarroycestoodfineclothestatterfaceruinshardswordtransfixedblindwhitepupillefteyerighteyeopenpupilburnedbluesawbrokenswordfellnervelessfingersclosedeyespraylongeleganthandsbrushedcheektightenedaroundthroatglovedfinestmoleskinstickybloodyettouchicycoldbranmorningdawnedclearcoldcrispnesshintedendsummersetforthdaybreakseemanbeheadedtwentybranrodeamongnervousexcitementfirsttimedeemedoldenoughgolordfatherbrothersseekingjusticedoneninthyearsummerseventhbranlifemantakenoutsidesmallholdfasthillsrobbthoughtwildlingswordswornmancerayderkingbeyondwallmadebranskinpricklethinkrememberedhearthtalesoldnantoldwildlingscruelmensaidslaversslayersthievesconsortedgiantsghoulsstolegirlchildrendeadnightdrankbloodpolishedhornswomenlayotherslongnightsireterriblehalfhumanchildrenmanfoundboundhandfootholdfastwallawaitingkingjusticeoldscrawnymuchtallerrobblostearsfingerfrostbitedressedblackbrothernightwatchexceptfursraggedgreasybreathmanhorsemingledsteamingcoldmorningairlordfathermancutwalldraggedrobbjonsattallstillhorsesbranponytryingseemolderseventryingpretendseenfaintwindblewholdfastgateheadsflappedbannerstarkswinterfellgreydirewolfracingacrossicewhitefieldbranfathersatsolemnlyhorselongbrownhairstirringwindcloselytrimmedbeardshotwhitemakinglookolderthirtyfiveyearsgrimcastgreyeyesdayseemedmanwouldsitfireeveningtalksoftlyageheroeschildrenforesttakenfatherfacebranthoughtdonnedfacelordstarkwinterfellquestionsaskedanswersgivenchillmorningafterwardbrancouldrecallmuchsaidfinallylordfathergavecommandtwoguardsmendraggedraggedmanironwoodstumpcentersquareforcedheadontohardblackwoodlordeddardstarkdismountedwardtheongreyjoybroughtforthswordiceswordcalledwideacrossmanhandtallerevenrobbbladevalyriansteelspellforgeddarksmokenothingheldedgelikevalyriansteelfatherpeeledgloveshandedjorycasselcaptainhouseholdguardtookholdicehandssaidnameroberthousebaratheonfirstnamekingandalsrhoynarfirstmenlordsevenkingdomsprotectorrealmwordeddardhousestarklordwinterfellwardennorthsentencedieliftedgreatswordhighheadbranbastardbrotherjonsnowmovedcloserkeepponywellhandwhisperedlookawayfatherknowbrankeptponywellhandlookawayfathertookmanheadsinglesurestrokebloodsprayedacrosssnowredsurnmerwineonehorsesrearedrestrainedkeepboltingbrancouldtakeeyesbloodsnowsaroundstumpdrankeagerlyreddeningwatchedheadbouncedthickrootrolledcameneargreyjoyfeettheonleandarkyouthnineteenfoundeverythingamusinglaughedputbootheadkickedawayassjonmutteredlowenoughgreyjoyhearputhandbranshoulderbranlookedbastardbrotherwelljontoldsolemnlyjonfourteenoldhandjusticeseemedcolderlongridebackwinterfellthoughwinddiedsunhigherskybranrodebrotherswellaheadmainpartyponystrugglinghardkeephorsesdeserterdiedbravelyrobbsaidbigbroadgrowingeverydaymothercoloringfairskinredbrownhairblueeyestullysriverruncourageleastjonsnowsaidquietlycourageonedeadfearcouldseeeyesstarkjoneyesgreydarkseemedalmostblacklittleseeagerobblookalikejonslenderrobbmusculardarkrobbfairgracefulquickhalfbrotherstrongfastrobbimpressedotherstakeeyessworediedwellracebridgedonejonsaidkickinghorseforwardrobbcursedfollowedgallopedtrailrobblaughinghootingjonsilentintenthooveshorseskickedshowerssnowwentbrantryfollowponycouldkeepseenraggedmaneyesthinkingsoundrobblaughterrecededwoodsgrewsilentdeepthoughtneverheardrestpartyfathermovedridebesidewellbranaskedunkindlyyesfatherbrantoldlookedwrappedfursleathersmountedgreatwarhorselordfatherloomedlikegiantrobbsaysmandiedbravelyjonsaysafraidthinkfatheraskedbranthoughtmanstillbraveafraidtimemanbravefathertoldunderstandwildlingbransaidcarrywomensellotherslordfathersmiledoldnantellingstoriestruthmanoathbreakerdeserternightwatchmandangerousdeserterknowslifeforfeittakenflinchcrimemattervilemistakequestionmandiemustbrananswerkingrobertheadsmansaiduncertainlyfatheradmittedtargaryenkingsyetwayolderwaybloodfirstmenstillflowsveinsstarksholdbeliefmanpassessentenceswingswordwouldtakemanlifeowelookeyeshearfinalwordscannotbearperhapsmandeservedieonedaybranrobbbannermanholdingkeepbrotherkingjusticefalldaycomesmusttakepleasuretaskneithermustlookawayrulerhidesbehindpaidexecutionerssoonforgetsdeathjonreappearedcresthillwavedshoutedfatherbrancomequicklyseerobbfoundgonejoryrodebesidetroublelordbeyonddoubtlordfathersaidcomeletusseemischiefsonsrootedsenthorsetrotjorybranrestcamefoundrobbriverbanknorthbridgejonstillmountedbesidelatesummersnowsheavymoonturnrobbstoodkneedeepwhitehoodpulledbacksunshonehaircradlingsomethingarmboystalkedhushedexcitedvoicesriderspickedwaycarefullydriftsgropingsolidfootinghiddenunevengroundjorycasseltheongreyjoyfirstreachboysgreyjoylaughingjokingrodebranheardbreathgogodsexclaimedstrugglingkeepcontrolhorsereachedswordjoryswordalreadyrobbgetawaycalledhorserearedrobbgrinnedlookedbundlearmshurtsaiddeadjorybranafirecuriositywouldspurredponyfasterfathermadedismountbesidebridgeapproachfootbranjumpedranjonjorytheongreyjoydismountedwellsevenhellsgreyjoysayingwolfrobbtoldfreakgreyjoysaidlooksizebranheartthumpingchestpushedwaisthighdriftbrotherssidehalfburiedbloodstainedsnowhugedarkshapeslumpeddeathiceformedshaggygreyfurfaintsmellcorruptionclunglikewomanperfumebranglimpsedblindeyescrawlingmaggotswidemouthfullyellowedteethsizemadegaspbiggerponytwicesizelargesthoundfatherkennelfreakjonsaidcalmlydirewolfgrowlargerkindtheongreyjoysaiddirewolfsightedsouthwalltwohundredyearsseeonejonrepliedbrantoreeyesawaymonsternoticedbundlerobbarmsgavecrydelightmovedcloserpuptinyballgreyblackfureyesstillclosednuzzledblindlyrobbchestcradledsearchingmilkamongleathersmakingsadlittlewhimperysoundbranreachedhesitantlygorobbtoldtouchbrangavepupquicknervousstroketurnedjonsaidgohalfbrotherputsecondpuparmsfivebransatsnowhuggedwolfpupfacefursoftwarmcheekdirewolveslooserealmmanyyearsmutteredhullenmasterhorselikesignjorysaidfatherfrowneddeadanimaljorysaidyetseemedtroubledsnowcrunchedbootsmovedaroundbodyknowkilledsomethingthroatrobbtoldproudfoundanswerfatherevenaskedjawfatherkneltgropedbeastheadhandgaveyankheldseefootshatteredantlertinessnappedwetbloodsuddensilencedescendedpartymenlookedantleruneasilyonedaredspeakevenbrancouldsensefearthoughunderstandfathertossedantlersidecleansedhandssnowsurprisedlivedlongenoughwhelpsaidvoicebrokespellmaybejorysaidheardtalesmaybebitchalreadydeadpupscameborndeadanothermanputworseluckmattersaidhullendeadsoonenoughbrangavewordlesscrydismaysoonerbettertheongreyjoyagreeddrewswordgivebeastbranlittlethingsquirmedheardunderstoodbrancriedfiercelymineputawayswordgreyjoyrobbsaidmomentsoundedcommandingfatherlikelordwouldsomedaykeeppupscannotboysaidharwinhullensonmercykillhullensaidbranlookedlordfatherrescuegotfrownfurrowedbrowhullenspeakstrulysonbetterswiftdeathhardonecoldstarvationcouldfeeltearswellingeyeslookedawaywantcryfrontfatherrobbresistedstubbornlyserrodrikredbitchwhelpedlastweeksaidsmalllittertwolivepupsmilkenoughripaparttrynurselordstarkjonsaidstrangehearcallfatherformalbranlookeddesperatehopefivepupstoldfatherthreemaletwofemalejonfivetruebornchildrenjonsaidthreesonstwodaughtersdirewolfsigilhousechildrenmeantpupslordbransawfatherfacechangesawmenexchangeglanceslovedjonheartmomentevensevenbranunderstoodbrotherdonecountcomerightjonomittedincludedgirlsincludedevenrickonbabybastardboresurnamesnownamecustomdecreedgivennorthunluckyenoughbornnamefatherunderstoodwellwantpupjonaskedsoftlydirewolfgracesbannershousestarkjonpointedstarkfatherlordfatherregardedjonthoughtfullyrobbrushedsilenceleftnursefatherpromisedsoaktowelwarmmilkgivesuckbranechoedlordweighedsonslongcarefullyeyeseasysayharderwastingservantstimewantpupsfeedunderstoodbrannoddedeagerlypupsquirmedgrasplickedfacewarmtonguemusttrainwellfathersaidmusttrainkennelmasternothingmonsterspromisegodshelpneglectbrutalizetrainbadlydogsbegtreatsslinkkickdirewolfripmanarmshouldereasilydogkillratsurewantyesfatherbransaidyesrobbagreedpupsmaydieanywaydespitedierobbsaidletdiekeepjorydesmondgatherpupstimebackwinterfellmountedwaybranallowedtastesweetairvictorypupsnuggledinsideleatherswarmsafelongridehomebranwonderingnamehalfwayacrossbridgejonpulledsuddenlyjonlordfatheraskedhearbrancouldhearwindtreesclatterhoovesironwoodplankswhimperinghungrypupjonlisteningsomethingelsejonsaidswunghorsearoundgallopedbackacrossbridgewatcheddismountdirewolflaydeadsnowwatchedkneelmomentlaterridingbacksmilingmustcrawledawayothersjonsaiddrivenawayfathersaidlookingsixthpupfurwhiterestlittergreyeyesredbloodraggedmandiedmorningbranthoughtcuriouspupalonewouldopenedeyesothersstillblindalbinotheongreyjoysaidwryamusementonedieevenfasterothers\n"
          ]
        }
      ]
    },
    {
      "cell_type": "code",
      "metadata": {
        "id": "KY_hQHYTkX9X"
      },
      "source": [
        "#chars to numbers\n",
        "chars=sorted(list(set(processed_inputs)))\n",
        "chars_to_num=dict((c,i) for i,c in enumerate(chars))"
      ],
      "execution_count": 26,
      "outputs": []
    },
    {
      "cell_type": "code",
      "metadata": {
        "colab": {
          "base_uri": "https://localhost:8080/"
        },
        "id": "SXo5EsKYk6DN",
        "outputId": "ac94ec4f-a3e9-4fb7-c73d-20f2eea5831f"
      },
      "source": [
        "print(chars)\n",
        "print(chars_to_num)"
      ],
      "execution_count": 27,
      "outputs": [
        {
          "output_type": "stream",
          "name": "stdout",
          "text": [
            "['a', 'b', 'c', 'd', 'e', 'f', 'g', 'h', 'i', 'j', 'k', 'l', 'm', 'n', 'o', 'p', 'q', 'r', 's', 't', 'u', 'v', 'w', 'x', 'y', 'z']\n",
            "{'a': 0, 'b': 1, 'c': 2, 'd': 3, 'e': 4, 'f': 5, 'g': 6, 'h': 7, 'i': 8, 'j': 9, 'k': 10, 'l': 11, 'm': 12, 'n': 13, 'o': 14, 'p': 15, 'q': 16, 'r': 17, 's': 18, 't': 19, 'u': 20, 'v': 21, 'w': 22, 'x': 23, 'y': 24, 'z': 25}\n"
          ]
        }
      ]
    },
    {
      "cell_type": "code",
      "metadata": {
        "colab": {
          "base_uri": "https://localhost:8080/"
        },
        "id": "JLfA3gjRlG0v",
        "outputId": "1ec07557-6beb-4f06-967c-697b1fcf86ab"
      },
      "source": [
        "#check if words to chars or chars to numbers worked or not\n",
        "input_len=len(processed_inputs)\n",
        "vocab_len=len(chars)\n",
        "print('Total no.of characters:',input_len)\n",
        "print('Total vocab:',vocab_len)"
      ],
      "execution_count": 28,
      "outputs": [
        {
          "output_type": "stream",
          "name": "stdout",
          "text": [
            "Total no.of characters: 18645\n",
            "Total vocab: 26\n"
          ]
        }
      ]
    },
    {
      "cell_type": "code",
      "metadata": {
        "id": "_93mb-IhmFIW"
      },
      "source": [
        "#sequence lenght\n",
        "seq_len=100\n",
        "x_data=[]\n",
        "y_data=[]"
      ],
      "execution_count": 29,
      "outputs": []
    },
    {
      "cell_type": "code",
      "metadata": {
        "colab": {
          "base_uri": "https://localhost:8080/"
        },
        "id": "HQFnIpYOmUxC",
        "outputId": "03803e22-ea7e-4911-d30a-3627aaef4c4a"
      },
      "source": [
        "# loop through the sequence\n",
        "for i in range(0,input_len-seq_len,1):\n",
        "  in_seq=processed_inputs[i:i+seq_len]\n",
        "  out_seq=processed_inputs[i+seq_len]\n",
        "  x_data.append([chars_to_num[char] for char in in_seq])\n",
        "  y_data.append(chars_to_num[out_seq])\n",
        "n_patterns=len(x_data)\n",
        "print(\"Total patterns:\",n_patterns)"
      ],
      "execution_count": 30,
      "outputs": [
        {
          "output_type": "stream",
          "name": "stdout",
          "text": [
            "Total patterns: 18545\n"
          ]
        }
      ]
    },
    {
      "cell_type": "code",
      "metadata": {
        "id": "5hoN8PtRnwES"
      },
      "source": [
        "# convert input sequence to array\n",
        "x=numpy.reshape(x_data,(n_patterns,seq_len,1))\n",
        "x=x/float(vocab_len)"
      ],
      "execution_count": 31,
      "outputs": []
    },
    {
      "cell_type": "code",
      "metadata": {
        "colab": {
          "base_uri": "https://localhost:8080/"
        },
        "id": "DAtedjFooMqP",
        "outputId": "e92f913e-58f7-42a2-f0a0-f5ba2b10e0a9"
      },
      "source": [
        "x"
      ],
      "execution_count": 32,
      "outputs": [
        {
          "output_type": "execute_result",
          "data": {
            "text/plain": [
              "array([[[0.69230769],\n",
              "        [0.53846154],\n",
              "        [0.5       ],\n",
              "        ...,\n",
              "        [0.5       ],\n",
              "        [0.69230769],\n",
              "        [0.15384615]],\n",
              "\n",
              "       [[0.53846154],\n",
              "        [0.5       ],\n",
              "        [0.23076923],\n",
              "        ...,\n",
              "        [0.69230769],\n",
              "        [0.15384615],\n",
              "        [0.65384615]],\n",
              "\n",
              "       [[0.5       ],\n",
              "        [0.23076923],\n",
              "        [0.30769231],\n",
              "        ...,\n",
              "        [0.15384615],\n",
              "        [0.65384615],\n",
              "        [0.84615385]],\n",
              "\n",
              "       ...,\n",
              "\n",
              "       [[0.73076923],\n",
              "        [0.07692308],\n",
              "        [0.76923077],\n",
              "        ...,\n",
              "        [0.53846154],\n",
              "        [0.73076923],\n",
              "        [0.26923077]],\n",
              "\n",
              "       [[0.07692308],\n",
              "        [0.76923077],\n",
              "        [0.65384615],\n",
              "        ...,\n",
              "        [0.73076923],\n",
              "        [0.26923077],\n",
              "        [0.15384615]],\n",
              "\n",
              "       [[0.76923077],\n",
              "        [0.65384615],\n",
              "        [0.30769231],\n",
              "        ...,\n",
              "        [0.26923077],\n",
              "        [0.15384615],\n",
              "        [0.65384615]]])"
            ]
          },
          "metadata": {},
          "execution_count": 32
        }
      ]
    },
    {
      "cell_type": "code",
      "metadata": {
        "id": "TwQ2ZmTsoREy"
      },
      "source": [
        "# one-hot encoding\n",
        "y=np_utils.to_categorical(y_data)\n"
      ],
      "execution_count": 33,
      "outputs": []
    },
    {
      "cell_type": "code",
      "metadata": {
        "colab": {
          "base_uri": "https://localhost:8080/"
        },
        "id": "X3xC6fDcoiAn",
        "outputId": "a2f53d77-0d4c-4902-89c7-6d9b5d07a45c"
      },
      "source": [
        "print(y)"
      ],
      "execution_count": 34,
      "outputs": [
        {
          "output_type": "stream",
          "name": "stdout",
          "text": [
            "[[0. 0. 0. ... 0. 0. 0.]\n",
            " [0. 0. 0. ... 0. 0. 0.]\n",
            " [1. 0. 0. ... 0. 0. 0.]\n",
            " ...\n",
            " [0. 0. 0. ... 0. 0. 0.]\n",
            " [0. 0. 0. ... 0. 0. 0.]\n",
            " [0. 0. 0. ... 0. 0. 0.]]\n"
          ]
        }
      ]
    },
    {
      "cell_type": "code",
      "metadata": {
        "id": "lO714v-OonDY"
      },
      "source": [
        "# creating the model\n",
        "model=Sequential()\n",
        "model.add(LSTM(256, input_shape=(x.shape[1],x.shape[2]), return_sequences=True))\n",
        "model.add(Dropout(0.2))\n",
        "model.add(LSTM(256, return_sequences=True))\n",
        "model.add(Dropout(0.2))\n",
        "model.add(LSTM(128))\n",
        "model.add(Dropout(0.2))\n",
        "model.add(Dense(y.shape[1],activation='softmax'))"
      ],
      "execution_count": 35,
      "outputs": []
    },
    {
      "cell_type": "code",
      "metadata": {
        "id": "kcVgNminpyLA"
      },
      "source": [
        "# compile the model\n",
        "model.compile(loss='categorical_crossentropy', optimizer='adam')"
      ],
      "execution_count": 36,
      "outputs": []
    },
    {
      "cell_type": "code",
      "metadata": {
        "id": "SAx6FvXWqFzQ"
      },
      "source": [
        "# saving weights\n",
        "filepath=\"model_weights_saved.hdf5\"\n",
        "checkpoint=ModelCheckpoint(filepath, monitor='loss', verbose=1, save_best_only=True, mode='min')\n",
        "desired_callbacks=[checkpoint]"
      ],
      "execution_count": 37,
      "outputs": []
    },
    {
      "cell_type": "code",
      "metadata": {
        "colab": {
          "base_uri": "https://localhost:8080/"
        },
        "id": "J7OyawLIqsKn",
        "outputId": "90d152b4-f9fc-4f7b-bce8-cd2d7af2b6c0"
      },
      "source": [
        "# training the model\n",
        "model.fit(x,y, epochs=3, batch_size=256, callbacks=desired_callbacks)"
      ],
      "execution_count": 39,
      "outputs": [
        {
          "output_type": "stream",
          "name": "stdout",
          "text": [
            "Epoch 1/3\n",
            "73/73 [==============================] - 286s 4s/step - loss: 2.9501\n",
            "\n",
            "Epoch 00001: loss improved from inf to 2.95006, saving model to model_weights_saved.hdf5\n",
            "Epoch 2/3\n",
            "73/73 [==============================] - 283s 4s/step - loss: 2.9431\n",
            "\n",
            "Epoch 00002: loss improved from 2.95006 to 2.94312, saving model to model_weights_saved.hdf5\n",
            "Epoch 3/3\n",
            "73/73 [==============================] - 289s 4s/step - loss: 2.9398\n",
            "\n",
            "Epoch 00003: loss improved from 2.94312 to 2.93983, saving model to model_weights_saved.hdf5\n"
          ]
        },
        {
          "output_type": "execute_result",
          "data": {
            "text/plain": [
              "<keras.callbacks.History at 0x7faed2553c10>"
            ]
          },
          "metadata": {},
          "execution_count": 39
        }
      ]
    },
    {
      "cell_type": "code",
      "metadata": {
        "id": "qYimSYEyxlkH"
      },
      "source": [
        "# recompile the model with the saved weights\n",
        "filename=\"model_weights_saved.hdf5\"\n",
        "model.load_weights(filename)\n",
        "model.compile(loss='categorical_crossentropy', optimizer='adam')"
      ],
      "execution_count": 40,
      "outputs": []
    },
    {
      "cell_type": "code",
      "metadata": {
        "id": "VPR1ipiWydgP"
      },
      "source": [
        "# output of the model back into characters\n",
        "num_to_char=dict((i,c) for i,c in enumerate(chars))"
      ],
      "execution_count": 41,
      "outputs": []
    },
    {
      "cell_type": "code",
      "metadata": {
        "colab": {
          "base_uri": "https://localhost:8080/"
        },
        "id": "noKb6egQn8z4",
        "outputId": "f576d009-b9e5-4e9c-a413-dfef9c2b19cb"
      },
      "source": [
        "num_to_char"
      ],
      "execution_count": 42,
      "outputs": [
        {
          "output_type": "execute_result",
          "data": {
            "text/plain": [
              "{0: 'a',\n",
              " 1: 'b',\n",
              " 2: 'c',\n",
              " 3: 'd',\n",
              " 4: 'e',\n",
              " 5: 'f',\n",
              " 6: 'g',\n",
              " 7: 'h',\n",
              " 8: 'i',\n",
              " 9: 'j',\n",
              " 10: 'k',\n",
              " 11: 'l',\n",
              " 12: 'm',\n",
              " 13: 'n',\n",
              " 14: 'o',\n",
              " 15: 'p',\n",
              " 16: 'q',\n",
              " 17: 'r',\n",
              " 18: 's',\n",
              " 19: 't',\n",
              " 20: 'u',\n",
              " 21: 'v',\n",
              " 22: 'w',\n",
              " 23: 'x',\n",
              " 24: 'y',\n",
              " 25: 'z'}"
            ]
          },
          "metadata": {},
          "execution_count": 42
        }
      ]
    },
    {
      "cell_type": "code",
      "metadata": {
        "colab": {
          "base_uri": "https://localhost:8080/"
        },
        "id": "hNSU19e9y25q",
        "outputId": "e396e5ec-7316-4528-f44f-371a8bbb3a8d"
      },
      "source": [
        "# random seed to help generate\n",
        "start=numpy.random.randint(0,len(x_data)-1)\n",
        "pattern=x_data[start]\n",
        "print('Random seed:')\n",
        "print(\"\\\"\",''.join([num_to_char[value] for value in pattern]),\"\\\"\")"
      ],
      "execution_count": 43,
      "outputs": [
        {
          "output_type": "stream",
          "name": "stdout",
          "text": [
            "Random seed:\n",
            "\" roundflatsidearmslashweightbehindparryalmostlazybladestouchedsteelshatteredscreamechoedforestnightlo \"\n"
          ]
        }
      ]
    },
    {
      "cell_type": "code",
      "metadata": {
        "colab": {
          "base_uri": "https://localhost:8080/"
        },
        "id": "AB1zVH5azyFe",
        "outputId": "7f915ce7-8d4b-4547-c5a0-a2c1887e9acf"
      },
      "source": [
        "# generate the text\n",
        "for i in range(1000):\n",
        "  X=numpy.reshape(pattern,(1,len(pattern),1))\n",
        "  X=X/float(vocab_len)\n",
        "  prediction=model.predict(X,verbose=0)\n",
        "  index=numpy.argmax(prediction)\n",
        "  result=num_to_char[index]\n",
        "  seq_in=[num_to_char[value] for value in pattern]\n",
        "  sys.stdout.write(result)\n",
        "  pattern.append(index)\n",
        "  pattern=pattern[1:len(pattern)]\n",
        "  "
      ],
      "execution_count": 44,
      "outputs": [
        {
          "output_type": "stream",
          "name": "stdout",
          "text": [
            "eeeeeeeeeeeeeeeeeeeeeeeeeeeeeeeeeeeeeeeeeeeeeeeeeeeeeeeeeeeeeeeeeeeeeeeeeeeeeeeeeeeeeeeeeeeeeeeeeeeeeeeeeeeeeeeeeeeeeeeeeeeeeeeeeeeeeeeeeeeeeeeeeeeeeeeeeeeeeeeeeeeeeeeeeeeeeeeeeeeeeeeeeeeeeeeeeeeeeeeeeeeeeeeeeeeeeeeeeeeeeeeeeeeeeeeeeeeeeeeeeeeeeeeeeeeeeeeeeeeeeeeeeeeeeeeeeeeeeeeeeeeeeeeeeeeeeeeeeeeeeeeeeeeeeeeeeeeeeeeeeeeeeeeeeeeeeeeeeeeeeeeeeeeeeeeeeeeeeeeeeeeeeeeeeeeeeeeeeeeeeeeeeeeeeeeeeeeeeeeeeeeeeeeeeeeeeeeeeeeeeeeeeeeeeeeeeeeeeeeeeeeeeeeeeeeeeeeeeeeeeeeeeeeeeeeeeeeeeeeeeeeeeeeeeeeeeeeeeeeeeeeeeeeeeeeeeeeeeeeeeeeeeeeeeeeeeeeeeeeeeeeeeeeeeeeeeeeeeeeeeeeeeeeeeeeeeeeeeeeeeeeeeeeeeeeeeeeeeeeeeeeeeeeeeeeeeeeeeeeeeeeeeeeeeeeeeeeeeeeeeeeeeeeeeeeeeeeeeeeeeeeeeeeeeeeeeeeeeeeeeeeeeeeeeeeeeeeeeeeeeeeeeeeeeeeeeeeeeeeeeeeeeeeeeeeeeeeeeeeeeeeeeeeeeeeeeeeeeeeeeeeeeeeeeeeeeeeeeeeeeeeeeeeeeeeeeeeeeeeeeeeeeeeeeeeeeeeeeeeeeeeeeeeeeeeeeeeeeeeeeeeeeeeeeeeeeeeeeeeeeeeeeeeeeeeeeeeeeeeeeeeeeeeeeeeeeeeeeeeeeeeeeeeeeeeeeeeeeeeeeeeeeeeeeeeeeeeeeeeeeeeeeeeeeeeeeeeeeeeeeeeeeeeeeeeeeeeeeeeeeeeeeeeeeeeeeeeeeeee"
          ]
        }
      ]
    },
    {
      "cell_type": "code",
      "metadata": {
        "colab": {
          "base_uri": "https://localhost:8080/",
          "height": 35
        },
        "id": "T1q1Obr6o8aa",
        "outputId": "92ecde8f-cc67-4027-cff2-150b0dfd835d"
      },
      "source": [
        "result"
      ],
      "execution_count": 46,
      "outputs": [
        {
          "output_type": "execute_result",
          "data": {
            "application/vnd.google.colaboratory.intrinsic+json": {
              "type": "string"
            },
            "text/plain": [
              "'e'"
            ]
          },
          "metadata": {},
          "execution_count": 46
        }
      ]
    },
    {
      "cell_type": "code",
      "metadata": {
        "colab": {
          "base_uri": "https://localhost:8080/"
        },
        "id": "37xYIPILpM6x",
        "outputId": "216d579c-149d-4462-a9ec-911a8f2253fb"
      },
      "source": [
        "pattern"
      ],
      "execution_count": 47,
      "outputs": [
        {
          "output_type": "execute_result",
          "data": {
            "text/plain": [
              "[4,\n",
              " 4,\n",
              " 4,\n",
              " 4,\n",
              " 4,\n",
              " 4,\n",
              " 4,\n",
              " 4,\n",
              " 4,\n",
              " 4,\n",
              " 4,\n",
              " 4,\n",
              " 4,\n",
              " 4,\n",
              " 4,\n",
              " 4,\n",
              " 4,\n",
              " 4,\n",
              " 4,\n",
              " 4,\n",
              " 4,\n",
              " 4,\n",
              " 4,\n",
              " 4,\n",
              " 4,\n",
              " 4,\n",
              " 4,\n",
              " 4,\n",
              " 4,\n",
              " 4,\n",
              " 4,\n",
              " 4,\n",
              " 4,\n",
              " 4,\n",
              " 4,\n",
              " 4,\n",
              " 4,\n",
              " 4,\n",
              " 4,\n",
              " 4,\n",
              " 4,\n",
              " 4,\n",
              " 4,\n",
              " 4,\n",
              " 4,\n",
              " 4,\n",
              " 4,\n",
              " 4,\n",
              " 4,\n",
              " 4,\n",
              " 4,\n",
              " 4,\n",
              " 4,\n",
              " 4,\n",
              " 4,\n",
              " 4,\n",
              " 4,\n",
              " 4,\n",
              " 4,\n",
              " 4,\n",
              " 4,\n",
              " 4,\n",
              " 4,\n",
              " 4,\n",
              " 4,\n",
              " 4,\n",
              " 4,\n",
              " 4,\n",
              " 4,\n",
              " 4,\n",
              " 4,\n",
              " 4,\n",
              " 4,\n",
              " 4,\n",
              " 4,\n",
              " 4,\n",
              " 4,\n",
              " 4,\n",
              " 4,\n",
              " 4,\n",
              " 4,\n",
              " 4,\n",
              " 4,\n",
              " 4,\n",
              " 4,\n",
              " 4,\n",
              " 4,\n",
              " 4,\n",
              " 4,\n",
              " 4,\n",
              " 4,\n",
              " 4,\n",
              " 4,\n",
              " 4,\n",
              " 4,\n",
              " 4,\n",
              " 4,\n",
              " 4,\n",
              " 4,\n",
              " 4]"
            ]
          },
          "metadata": {},
          "execution_count": 47
        }
      ]
    }
  ]
}